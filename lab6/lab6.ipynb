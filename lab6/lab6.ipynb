{
  "cells": [
    {
      "cell_type": "markdown",
      "metadata": {
        "id": "HSX6gcwouo8J"
      },
      "source": [
        "# Нейроинформатика. Лабораторная работа 6\n",
        "### Сети Кохонена\n",
        "\n",
        "Целью работы является исследование свойств слоя Кохонена и карты Кохонена, а также применение сетей в задаче кластеризации.\n",
        "\n",
        "Выполнил Лисин Роман, М8О-406Б-20. Вариант 12."
      ]
    },
    {
      "cell_type": "code",
      "execution_count": 1,
      "metadata": {
        "id": "dn0FOJJ8umiR"
      },
      "outputs": [],
      "source": [
        "import numpy as np\n",
        "import matplotlib.pyplot as plt\n",
        "from tqdm import tqdm"
      ]
    },
    {
      "cell_type": "markdown",
      "metadata": {
        "id": "vZqfTZeJta_f"
      },
      "source": [
        "Подготовим датасет с точками (согласно варианту)"
      ]
    },
    {
      "cell_type": "code",
      "execution_count": 2,
      "metadata": {
        "id": "B5tWY1ZKuqkR"
      },
      "outputs": [],
      "source": [
        "data = [\n",
        "        [-0.4, -1.1],\n",
        "        [-1.5, -0.3],\n",
        "        [-1, 0.6],\n",
        "        [-0.4, 1],\n",
        "        [0.7, 0.2],\n",
        "        [-1, 1.3],\n",
        "        [-0.8, 1.2],\n",
        "        [-0.9, -0.4],\n",
        "        [-1.3, 0.4],\n",
        "        [-1, -1.4],\n",
        "        [0.6, -0.5],\n",
        "        [0.4, -0.4],\n",
        "]"
      ]
    },
    {
      "cell_type": "markdown",
      "metadata": {
        "id": "E2Cq9Pclwgcj"
      },
      "source": [
        "Напишем карту Кохонена для кластеризации точек"
      ]
    },
    {
      "cell_type": "code",
      "execution_count": 3,
      "metadata": {
        "id": "5ZCN8BCmwBNn"
      },
      "outputs": [],
      "source": [
        "class SOM():\n",
        "    def __init__(self, in_features, w, h):\n",
        "        self.in_features = in_features\n",
        "        self.w = w\n",
        "        self.h = h\n",
        "        self.nodes = np.random.randn(w * h, in_features)\n",
        "        self.indices = np.array([[x, y] for x in range(0, h) for y in range(0, w)])\n",
        "\n",
        "    def update(self, input, radius, lr):\n",
        "        \"\"\"\n",
        "        Итерация для само-организующейся карты Кохонена\n",
        "        radius, lr - радиус и скорость обучения\n",
        "        \"\"\"\n",
        "        # ищем индекс узла, который лучше всего матчится с инпутом (BMU - best matching unit)\n",
        "        distances_to_input = np.linalg.norm(self.nodes - input, axis=1)\n",
        "        bmu = np.argmin(distances_to_input)\n",
        "\n",
        "        # ищем расстояния от bmu до остальных вершин\n",
        "        distances_to_bmu = np.linalg.norm(self.indices - self.indices[bmu], axis=1)\n",
        "\n",
        "        # обновляем узлы, расстояние до которых меньше заданного радиуса\n",
        "        for node, distance in zip(self.nodes, distances_to_bmu):\n",
        "            if distance < radius:\n",
        "                influence = np.exp(-distance / (2 * radius))\n",
        "                node += lr * influence * (input - node)\n",
        "\n",
        "    def train(self, data, epochs, start_lr=1):\n",
        "        \"\"\"\n",
        "        Обучение само-организующейся карты\n",
        "        epochs - количество эпох обучения\n",
        "        \"\"\"\n",
        "        start_radius = max(self.w, self.h) // 2\n",
        "        radius_decrease = epochs / np.log(start_radius) # коэффициент для снижения радиуса после каждой эпохи\n",
        "        for epoch in tqdm(range(epochs)):\n",
        "            np.random.shuffle(data)\n",
        "            # чем больше эпоха, тем меньший радиус и лернинг рейт\n",
        "            radius = start_radius * np.exp(-epoch / radius_decrease)\n",
        "            lr = start_lr * np.exp(-epoch / epochs)\n",
        "            for elem in data:\n",
        "                self.update(elem, radius, lr)"
      ]
    },
    {
      "cell_type": "markdown",
      "metadata": {
        "id": "BwCIqfxMy7h2"
      },
      "source": [
        "Обучим карту размером 50х50"
      ]
    },
    {
      "cell_type": "code",
      "execution_count": 4,
      "metadata": {
        "id": "ZWEX8dney63d"
      },
      "outputs": [],
      "source": [
        "model = SOM(in_features=2, w=50, h=50)"
      ]
    },
    {
      "cell_type": "code",
      "execution_count": 5,
      "metadata": {
        "colab": {
          "base_uri": "https://localhost:8080/"
        },
        "id": "_V_od5FK0ghL",
        "outputId": "17de95e0-a02a-4b19-9a20-b53e88bfc5e1"
      },
      "outputs": [
        {
          "output_type": "stream",
          "name": "stderr",
          "text": [
            "100%|██████████| 150/150 [00:10<00:00, 14.87it/s]\n"
          ]
        }
      ],
      "source": [
        "model.train(data=data, epochs=150, start_lr=1)"
      ]
    },
    {
      "cell_type": "markdown",
      "metadata": {
        "id": "Z1wRDaYA8ovX"
      },
      "source": [
        "Посмотрим на результат кластеризации. Значения в вершинах нормируем, чтобы матплотлиб смог корректно их отобразить"
      ]
    },
    {
      "cell_type": "code",
      "execution_count": 6,
      "metadata": {
        "id": "6SCnRKA7_3UF"
      },
      "outputs": [],
      "source": [
        "nodes = model.nodes\n",
        "\n",
        "nodes_min = np.min(nodes, axis=0)\n",
        "nodes_max = np.max(nodes, axis=0)\n",
        "\n",
        "nodes_scaled = ((nodes - nodes_min) / (nodes_max - nodes_min)).reshape((model.h, model.w, model.in_features))"
      ]
    },
    {
      "cell_type": "code",
      "execution_count": 7,
      "metadata": {
        "colab": {
          "base_uri": "https://localhost:8080/",
          "height": 676
        },
        "id": "8KgKX4rm5o5e",
        "outputId": "e176c3ed-526b-4974-8638-fc97761e1a2a"
      },
      "outputs": [
        {
          "output_type": "display_data",
          "data": {
            "text/plain": [
              "<Figure size 1500x800 with 1 Axes>"
            ],
            "image/png": "[encoded data removed]"
          },
          "metadata": {}
        }
      ],
      "source": [
        "plt.figure(figsize=(15, 8))\n",
        "\n",
        "plt.imshow(np.insert(nodes_scaled, 2, 0.5, axis = 2)) # добавляем измерение, чтобы матплотлиб нарисовал цветную картинку\n",
        "\n",
        "plt.show()"
      ]
    },
    {
      "cell_type": "markdown",
      "metadata": {
        "id": "wkKX2q_X7zHU"
      },
      "source": [
        "### Вывод\n",
        "\n",
        "В данной лабораторной работе я изучил и реализовал самоорганизующуюся карту Кохонена и решил с ее помощью задачу кластеризации плоскости. Результат получился достаточно правдоподобный. Плоскость разделилась на 12 частей."
      ]
    },
    {
      "cell_type": "code",
      "execution_count": null,
      "metadata": {
        "id": "Xuq_79rhAd1C"
      },
      "outputs": [],
      "source": []
    }
  ],
  "metadata": {
    "colab": {
      "provenance": [],
      "gpuType": "T4"
    },
    "kernelspec": {
      "display_name": "Python 3",
      "name": "python3"
    },
    "language_info": {
      "codemirror_mode": {
        "name": "ipython",
        "version": 3
      },
      "file_extension": ".py",
      "mimetype": "text/x-python",
      "name": "python",
      "nbconvert_exporter": "python",
      "pygments_lexer": "ipython3",
      "version": "3.9.4"
    },
    "vscode": {
      "interpreter": {
        "hash": "dd426dfed99da6cb3eeddada32cbe22393fcbce2a3b224045159bf9f02b27406"
      }
    },
    "accelerator": "GPU"
  },
  "nbformat": 4,
  "nbformat_minor": 0
}